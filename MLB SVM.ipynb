{
 "cells": [
  {
   "cell_type": "code",
   "execution_count": 1,
   "metadata": {},
   "outputs": [],
   "source": [
    "import numpy as np\n",
    "import pandas as pd\n",
    "\n",
    "from IPython.display import Image\n",
    "\n",
    "from sklearn import datasets\n",
    "from sklearn.decomposition import PCA\n",
    "from sklearn.metrics import accuracy_score, confusion_matrix\n",
    "from sklearn.model_selection import train_test_split\n",
    "from sklearn import svm\n",
    "\n",
    "from matplotlib import pyplot as plt\n",
    "%matplotlib inline"
   ]
  },
  {
   "cell_type": "code",
   "execution_count": 4,
   "metadata": {},
   "outputs": [
    {
     "data": {
      "text/html": [
       "<div>\n",
       "<style>\n",
       "    .dataframe thead tr:only-child th {\n",
       "        text-align: right;\n",
       "    }\n",
       "\n",
       "    .dataframe thead th {\n",
       "        text-align: left;\n",
       "    }\n",
       "\n",
       "    .dataframe tbody tr th {\n",
       "        vertical-align: top;\n",
       "    }\n",
       "</style>\n",
       "<table border=\"1\" class=\"dataframe\">\n",
       "  <thead>\n",
       "    <tr style=\"text-align: right;\">\n",
       "      <th></th>\n",
       "      <th>Unnamed: 0</th>\n",
       "      <th>game_date</th>\n",
       "      <th>player_name</th>\n",
       "      <th>batter</th>\n",
       "      <th>pitcher</th>\n",
       "      <th>zone</th>\n",
       "      <th>home_team</th>\n",
       "      <th>away_team</th>\n",
       "      <th>balls</th>\n",
       "      <th>strikes</th>\n",
       "      <th>...</th>\n",
       "      <th>count_2-0</th>\n",
       "      <th>count_2-1</th>\n",
       "      <th>count_2-2</th>\n",
       "      <th>count_3-0</th>\n",
       "      <th>count_3-1</th>\n",
       "      <th>count_3-2</th>\n",
       "      <th>fastball</th>\n",
       "      <th>run_diff</th>\n",
       "      <th>breaking</th>\n",
       "      <th>offspeed</th>\n",
       "    </tr>\n",
       "  </thead>\n",
       "  <tbody>\n",
       "    <tr>\n",
       "      <th>0</th>\n",
       "      <td>0</td>\n",
       "      <td>9/30/18</td>\n",
       "      <td>Shawn Armstrong</td>\n",
       "      <td>593643</td>\n",
       "      <td>542888</td>\n",
       "      <td>13</td>\n",
       "      <td>SEA</td>\n",
       "      <td>TEX</td>\n",
       "      <td>2</td>\n",
       "      <td>2</td>\n",
       "      <td>...</td>\n",
       "      <td>0</td>\n",
       "      <td>0</td>\n",
       "      <td>1</td>\n",
       "      <td>0</td>\n",
       "      <td>0</td>\n",
       "      <td>0</td>\n",
       "      <td>1</td>\n",
       "      <td>-2</td>\n",
       "      <td>0</td>\n",
       "      <td>0</td>\n",
       "    </tr>\n",
       "    <tr>\n",
       "      <th>1</th>\n",
       "      <td>1</td>\n",
       "      <td>9/30/18</td>\n",
       "      <td>Shawn Armstrong</td>\n",
       "      <td>593643</td>\n",
       "      <td>542888</td>\n",
       "      <td>14</td>\n",
       "      <td>SEA</td>\n",
       "      <td>TEX</td>\n",
       "      <td>2</td>\n",
       "      <td>2</td>\n",
       "      <td>...</td>\n",
       "      <td>0</td>\n",
       "      <td>0</td>\n",
       "      <td>1</td>\n",
       "      <td>0</td>\n",
       "      <td>0</td>\n",
       "      <td>0</td>\n",
       "      <td>1</td>\n",
       "      <td>-2</td>\n",
       "      <td>0</td>\n",
       "      <td>0</td>\n",
       "    </tr>\n",
       "    <tr>\n",
       "      <th>2</th>\n",
       "      <td>2</td>\n",
       "      <td>9/30/18</td>\n",
       "      <td>Shawn Armstrong</td>\n",
       "      <td>593643</td>\n",
       "      <td>542888</td>\n",
       "      <td>8</td>\n",
       "      <td>SEA</td>\n",
       "      <td>TEX</td>\n",
       "      <td>2</td>\n",
       "      <td>2</td>\n",
       "      <td>...</td>\n",
       "      <td>0</td>\n",
       "      <td>0</td>\n",
       "      <td>1</td>\n",
       "      <td>0</td>\n",
       "      <td>0</td>\n",
       "      <td>0</td>\n",
       "      <td>1</td>\n",
       "      <td>-2</td>\n",
       "      <td>0</td>\n",
       "      <td>0</td>\n",
       "    </tr>\n",
       "    <tr>\n",
       "      <th>3</th>\n",
       "      <td>3</td>\n",
       "      <td>9/30/18</td>\n",
       "      <td>Shawn Armstrong</td>\n",
       "      <td>593643</td>\n",
       "      <td>542888</td>\n",
       "      <td>9</td>\n",
       "      <td>SEA</td>\n",
       "      <td>TEX</td>\n",
       "      <td>2</td>\n",
       "      <td>2</td>\n",
       "      <td>...</td>\n",
       "      <td>0</td>\n",
       "      <td>0</td>\n",
       "      <td>1</td>\n",
       "      <td>0</td>\n",
       "      <td>0</td>\n",
       "      <td>0</td>\n",
       "      <td>0</td>\n",
       "      <td>-2</td>\n",
       "      <td>1</td>\n",
       "      <td>0</td>\n",
       "    </tr>\n",
       "    <tr>\n",
       "      <th>4</th>\n",
       "      <td>4</td>\n",
       "      <td>9/30/18</td>\n",
       "      <td>Shawn Armstrong</td>\n",
       "      <td>593643</td>\n",
       "      <td>542888</td>\n",
       "      <td>3</td>\n",
       "      <td>SEA</td>\n",
       "      <td>TEX</td>\n",
       "      <td>2</td>\n",
       "      <td>2</td>\n",
       "      <td>...</td>\n",
       "      <td>0</td>\n",
       "      <td>0</td>\n",
       "      <td>1</td>\n",
       "      <td>0</td>\n",
       "      <td>0</td>\n",
       "      <td>0</td>\n",
       "      <td>1</td>\n",
       "      <td>-2</td>\n",
       "      <td>0</td>\n",
       "      <td>0</td>\n",
       "    </tr>\n",
       "  </tbody>\n",
       "</table>\n",
       "<p>5 rows × 57 columns</p>\n",
       "</div>"
      ],
      "text/plain": [
       "   Unnamed: 0 game_date      player_name  batter  pitcher zone home_team  \\\n",
       "0           0   9/30/18  Shawn Armstrong  593643   542888   13       SEA   \n",
       "1           1   9/30/18  Shawn Armstrong  593643   542888   14       SEA   \n",
       "2           2   9/30/18  Shawn Armstrong  593643   542888    8       SEA   \n",
       "3           3   9/30/18  Shawn Armstrong  593643   542888    9       SEA   \n",
       "4           4   9/30/18  Shawn Armstrong  593643   542888    3       SEA   \n",
       "\n",
       "  away_team  balls  strikes    ...     count_2-0  count_2-1  count_2-2  \\\n",
       "0       TEX      2        2    ...             0          0          1   \n",
       "1       TEX      2        2    ...             0          0          1   \n",
       "2       TEX      2        2    ...             0          0          1   \n",
       "3       TEX      2        2    ...             0          0          1   \n",
       "4       TEX      2        2    ...             0          0          1   \n",
       "\n",
       "   count_3-0 count_3-1 count_3-2  fastball  run_diff  breaking  offspeed  \n",
       "0          0         0         0         1        -2         0         0  \n",
       "1          0         0         0         1        -2         0         0  \n",
       "2          0         0         0         1        -2         0         0  \n",
       "3          0         0         0         0        -2         1         0  \n",
       "4          0         0         0         1        -2         0         0  \n",
       "\n",
       "[5 rows x 57 columns]"
      ]
     },
     "execution_count": 4,
     "metadata": {},
     "output_type": "execute_result"
    }
   ],
   "source": [
    "df = pd.read_csv('sea_2018.csv')\n",
    "df.head()"
   ]
  },
  {
   "cell_type": "code",
   "execution_count": 42,
   "metadata": {},
   "outputs": [],
   "source": [
    "df['pitch']=0"
   ]
  },
  {
   "cell_type": "code",
   "execution_count": 6,
   "metadata": {},
   "outputs": [
    {
     "data": {
      "text/html": [
       "<div>\n",
       "<style>\n",
       "    .dataframe thead tr:only-child th {\n",
       "        text-align: right;\n",
       "    }\n",
       "\n",
       "    .dataframe thead th {\n",
       "        text-align: left;\n",
       "    }\n",
       "\n",
       "    .dataframe tbody tr th {\n",
       "        vertical-align: top;\n",
       "    }\n",
       "</style>\n",
       "<table border=\"1\" class=\"dataframe\">\n",
       "  <thead>\n",
       "    <tr style=\"text-align: right;\">\n",
       "      <th></th>\n",
       "      <th>Unnamed: 0</th>\n",
       "      <th>game_date</th>\n",
       "      <th>player_name</th>\n",
       "      <th>batter</th>\n",
       "      <th>pitcher</th>\n",
       "      <th>zone</th>\n",
       "      <th>home_team</th>\n",
       "      <th>away_team</th>\n",
       "      <th>balls</th>\n",
       "      <th>strikes</th>\n",
       "      <th>...</th>\n",
       "      <th>count_2-1</th>\n",
       "      <th>count_2-2</th>\n",
       "      <th>count_3-0</th>\n",
       "      <th>count_3-1</th>\n",
       "      <th>count_3-2</th>\n",
       "      <th>fastball</th>\n",
       "      <th>run_diff</th>\n",
       "      <th>breaking</th>\n",
       "      <th>offspeed</th>\n",
       "      <th>pitch</th>\n",
       "    </tr>\n",
       "  </thead>\n",
       "  <tbody>\n",
       "    <tr>\n",
       "      <th>0</th>\n",
       "      <td>0</td>\n",
       "      <td>9/30/18</td>\n",
       "      <td>Shawn Armstrong</td>\n",
       "      <td>593643</td>\n",
       "      <td>542888</td>\n",
       "      <td>13</td>\n",
       "      <td>SEA</td>\n",
       "      <td>TEX</td>\n",
       "      <td>2</td>\n",
       "      <td>2</td>\n",
       "      <td>...</td>\n",
       "      <td>0</td>\n",
       "      <td>1</td>\n",
       "      <td>0</td>\n",
       "      <td>0</td>\n",
       "      <td>0</td>\n",
       "      <td>1</td>\n",
       "      <td>-2</td>\n",
       "      <td>0</td>\n",
       "      <td>0</td>\n",
       "      <td>0</td>\n",
       "    </tr>\n",
       "    <tr>\n",
       "      <th>1</th>\n",
       "      <td>1</td>\n",
       "      <td>9/30/18</td>\n",
       "      <td>Shawn Armstrong</td>\n",
       "      <td>593643</td>\n",
       "      <td>542888</td>\n",
       "      <td>14</td>\n",
       "      <td>SEA</td>\n",
       "      <td>TEX</td>\n",
       "      <td>2</td>\n",
       "      <td>2</td>\n",
       "      <td>...</td>\n",
       "      <td>0</td>\n",
       "      <td>1</td>\n",
       "      <td>0</td>\n",
       "      <td>0</td>\n",
       "      <td>0</td>\n",
       "      <td>1</td>\n",
       "      <td>-2</td>\n",
       "      <td>0</td>\n",
       "      <td>0</td>\n",
       "      <td>0</td>\n",
       "    </tr>\n",
       "    <tr>\n",
       "      <th>2</th>\n",
       "      <td>2</td>\n",
       "      <td>9/30/18</td>\n",
       "      <td>Shawn Armstrong</td>\n",
       "      <td>593643</td>\n",
       "      <td>542888</td>\n",
       "      <td>8</td>\n",
       "      <td>SEA</td>\n",
       "      <td>TEX</td>\n",
       "      <td>2</td>\n",
       "      <td>2</td>\n",
       "      <td>...</td>\n",
       "      <td>0</td>\n",
       "      <td>1</td>\n",
       "      <td>0</td>\n",
       "      <td>0</td>\n",
       "      <td>0</td>\n",
       "      <td>1</td>\n",
       "      <td>-2</td>\n",
       "      <td>0</td>\n",
       "      <td>0</td>\n",
       "      <td>0</td>\n",
       "    </tr>\n",
       "    <tr>\n",
       "      <th>3</th>\n",
       "      <td>3</td>\n",
       "      <td>9/30/18</td>\n",
       "      <td>Shawn Armstrong</td>\n",
       "      <td>593643</td>\n",
       "      <td>542888</td>\n",
       "      <td>9</td>\n",
       "      <td>SEA</td>\n",
       "      <td>TEX</td>\n",
       "      <td>2</td>\n",
       "      <td>2</td>\n",
       "      <td>...</td>\n",
       "      <td>0</td>\n",
       "      <td>1</td>\n",
       "      <td>0</td>\n",
       "      <td>0</td>\n",
       "      <td>0</td>\n",
       "      <td>0</td>\n",
       "      <td>-2</td>\n",
       "      <td>1</td>\n",
       "      <td>0</td>\n",
       "      <td>0</td>\n",
       "    </tr>\n",
       "    <tr>\n",
       "      <th>4</th>\n",
       "      <td>4</td>\n",
       "      <td>9/30/18</td>\n",
       "      <td>Shawn Armstrong</td>\n",
       "      <td>593643</td>\n",
       "      <td>542888</td>\n",
       "      <td>3</td>\n",
       "      <td>SEA</td>\n",
       "      <td>TEX</td>\n",
       "      <td>2</td>\n",
       "      <td>2</td>\n",
       "      <td>...</td>\n",
       "      <td>0</td>\n",
       "      <td>1</td>\n",
       "      <td>0</td>\n",
       "      <td>0</td>\n",
       "      <td>0</td>\n",
       "      <td>1</td>\n",
       "      <td>-2</td>\n",
       "      <td>0</td>\n",
       "      <td>0</td>\n",
       "      <td>0</td>\n",
       "    </tr>\n",
       "  </tbody>\n",
       "</table>\n",
       "<p>5 rows × 58 columns</p>\n",
       "</div>"
      ],
      "text/plain": [
       "   Unnamed: 0 game_date      player_name  batter  pitcher zone home_team  \\\n",
       "0           0   9/30/18  Shawn Armstrong  593643   542888   13       SEA   \n",
       "1           1   9/30/18  Shawn Armstrong  593643   542888   14       SEA   \n",
       "2           2   9/30/18  Shawn Armstrong  593643   542888    8       SEA   \n",
       "3           3   9/30/18  Shawn Armstrong  593643   542888    9       SEA   \n",
       "4           4   9/30/18  Shawn Armstrong  593643   542888    3       SEA   \n",
       "\n",
       "  away_team  balls  strikes  ...    count_2-1  count_2-2  count_3-0  \\\n",
       "0       TEX      2        2  ...            0          1          0   \n",
       "1       TEX      2        2  ...            0          1          0   \n",
       "2       TEX      2        2  ...            0          1          0   \n",
       "3       TEX      2        2  ...            0          1          0   \n",
       "4       TEX      2        2  ...            0          1          0   \n",
       "\n",
       "   count_3-1 count_3-2 fastball  run_diff  breaking  offspeed  pitch  \n",
       "0          0         0        1        -2         0         0      0  \n",
       "1          0         0        1        -2         0         0      0  \n",
       "2          0         0        1        -2         0         0      0  \n",
       "3          0         0        0        -2         1         0      0  \n",
       "4          0         0        1        -2         0         0      0  \n",
       "\n",
       "[5 rows x 58 columns]"
      ]
     },
     "execution_count": 6,
     "metadata": {},
     "output_type": "execute_result"
    }
   ],
   "source": [
    "df.head()"
   ]
  },
  {
   "cell_type": "code",
   "execution_count": 11,
   "metadata": {},
   "outputs": [
    {
     "name": "stderr",
     "output_type": "stream",
     "text": [
      "/Users/alexanderbell/anaconda3/lib/python3.6/site-packages/ipykernel_launcher.py:1: SettingWithCopyWarning: \n",
      "A value is trying to be set on a copy of a slice from a DataFrame\n",
      "\n",
      "See the caveats in the documentation: http://pandas.pydata.org/pandas-docs/stable/indexing.html#indexing-view-versus-copy\n",
      "  \"\"\"Entry point for launching an IPython kernel.\n"
     ]
    }
   ],
   "source": [
    "df['pitch'][df.fastball == 1] = 2"
   ]
  },
  {
   "cell_type": "code",
   "execution_count": 21,
   "metadata": {},
   "outputs": [
    {
     "data": {
      "text/html": [
       "<div>\n",
       "<style>\n",
       "    .dataframe thead tr:only-child th {\n",
       "        text-align: right;\n",
       "    }\n",
       "\n",
       "    .dataframe thead th {\n",
       "        text-align: left;\n",
       "    }\n",
       "\n",
       "    .dataframe tbody tr th {\n",
       "        vertical-align: top;\n",
       "    }\n",
       "</style>\n",
       "<table border=\"1\" class=\"dataframe\">\n",
       "  <thead>\n",
       "    <tr style=\"text-align: right;\">\n",
       "      <th></th>\n",
       "      <th>game_date</th>\n",
       "      <th>player_name</th>\n",
       "      <th>batter</th>\n",
       "      <th>pitcher</th>\n",
       "      <th>zone</th>\n",
       "      <th>home_team</th>\n",
       "      <th>away_team</th>\n",
       "      <th>balls</th>\n",
       "      <th>strikes</th>\n",
       "      <th>on_3b</th>\n",
       "      <th>on_2b</th>\n",
       "      <th>on_1b</th>\n",
       "      <th>inning</th>\n",
       "      <th>sv_id</th>\n",
       "      <th>pitch_name</th>\n",
       "      <th>bat_score</th>\n",
       "      <th>fld_score</th>\n",
       "      <th>pitch_type_CH</th>\n",
       "      <th>pitch_type_CU</th>\n",
       "      <th>pitch_type_FC</th>\n",
       "      <th>pitch_type_FF</th>\n",
       "      <th>pitch_type_FS</th>\n",
       "      <th>pitch_type_FT</th>\n",
       "      <th>pitch_type_KC</th>\n",
       "      <th>pitch_type_PO</th>\n",
       "      <th>pitch_type_SI</th>\n",
       "      <th>pitch_type_SL</th>\n",
       "      <th>p_throws_L</th>\n",
       "      <th>p_throws_R</th>\n",
       "      <th>stand_L</th>\n",
       "      <th>stand_R</th>\n",
       "      <th>outs_when_up_0</th>\n",
       "      <th>outs_when_up_1</th>\n",
       "      <th>outs_when_up_2</th>\n",
       "      <th>if_shift</th>\n",
       "      <th>if_standard</th>\n",
       "      <th>if_strategic</th>\n",
       "      <th>of_fourth</th>\n",
       "      <th>of_standard</th>\n",
       "      <th>of_strategic</th>\n",
       "      <th>count_0-0</th>\n",
       "      <th>count_0-1</th>\n",
       "      <th>count_0-2</th>\n",
       "      <th>count_1-0</th>\n",
       "      <th>count_1-1</th>\n",
       "      <th>count_1-2</th>\n",
       "      <th>count_2-0</th>\n",
       "      <th>count_2-1</th>\n",
       "      <th>count_2-2</th>\n",
       "      <th>count_3-0</th>\n",
       "      <th>count_3-1</th>\n",
       "      <th>count_3-2</th>\n",
       "      <th>fastball</th>\n",
       "      <th>run_diff</th>\n",
       "      <th>breaking</th>\n",
       "      <th>offspeed</th>\n",
       "      <th>pitch</th>\n",
       "    </tr>\n",
       "  </thead>\n",
       "  <tbody>\n",
       "    <tr>\n",
       "      <th>22243</th>\n",
       "      <td>4/5/18</td>\n",
       "      <td>Dan Altavilla</td>\n",
       "      <td>621439</td>\n",
       "      <td>656186</td>\n",
       "      <td>12</td>\n",
       "      <td>MIN</td>\n",
       "      <td>SEA</td>\n",
       "      <td>0</td>\n",
       "      <td>1</td>\n",
       "      <td>0</td>\n",
       "      <td>0</td>\n",
       "      <td>0</td>\n",
       "      <td>6</td>\n",
       "      <td>180405_221834</td>\n",
       "      <td>Slider</td>\n",
       "      <td>2</td>\n",
       "      <td>2</td>\n",
       "      <td>0</td>\n",
       "      <td>0</td>\n",
       "      <td>0</td>\n",
       "      <td>0</td>\n",
       "      <td>0</td>\n",
       "      <td>0</td>\n",
       "      <td>0</td>\n",
       "      <td>0</td>\n",
       "      <td>0</td>\n",
       "      <td>1</td>\n",
       "      <td>0</td>\n",
       "      <td>1</td>\n",
       "      <td>0</td>\n",
       "      <td>1</td>\n",
       "      <td>0</td>\n",
       "      <td>1</td>\n",
       "      <td>0</td>\n",
       "      <td>0</td>\n",
       "      <td>0</td>\n",
       "      <td>1</td>\n",
       "      <td>0</td>\n",
       "      <td>1</td>\n",
       "      <td>0</td>\n",
       "      <td>0</td>\n",
       "      <td>1</td>\n",
       "      <td>0</td>\n",
       "      <td>0</td>\n",
       "      <td>0</td>\n",
       "      <td>0</td>\n",
       "      <td>0</td>\n",
       "      <td>0</td>\n",
       "      <td>0</td>\n",
       "      <td>0</td>\n",
       "      <td>0</td>\n",
       "      <td>0</td>\n",
       "      <td>0</td>\n",
       "      <td>0</td>\n",
       "      <td>1</td>\n",
       "      <td>0</td>\n",
       "      <td>1</td>\n",
       "    </tr>\n",
       "  </tbody>\n",
       "</table>\n",
       "</div>"
      ],
      "text/plain": [
       "      game_date    player_name  batter  pitcher zone home_team away_team  balls  strikes  on_3b  on_2b  on_1b  inning          sv_id pitch_name  bat_score  fld_score  pitch_type_CH  pitch_type_CU  pitch_type_FC  pitch_type_FF  pitch_type_FS  pitch_type_FT  pitch_type_KC  pitch_type_PO  pitch_type_SI  pitch_type_SL  p_throws_L  p_throws_R  stand_L  stand_R  outs_when_up_0  outs_when_up_1  outs_when_up_2  if_shift  if_standard  if_strategic  of_fourth  of_standard  of_strategic  count_0-0  count_0-1  count_0-2  count_1-0  count_1-1  count_1-2  count_2-0  count_2-1  count_2-2  count_3-0  count_3-1  count_3-2  fastball  run_diff  breaking  offspeed  pitch\n",
       "22243    4/5/18  Dan Altavilla  621439   656186   12       MIN       SEA      0        1      0      0      0       6  180405_221834     Slider          2          2              0              0              0              0              0              0              0              0              0              1           0           1        0        1               0               1               0         0            0             1          0            1             0          0          1          0          0          0          0          0          0          0          0          0          0         0         0         1         0      1"
      ]
     },
     "execution_count": 21,
     "metadata": {},
     "output_type": "execute_result"
    }
   ],
   "source": [
    "df.sample()"
   ]
  },
  {
   "cell_type": "code",
   "execution_count": 13,
   "metadata": {},
   "outputs": [
    {
     "name": "stderr",
     "output_type": "stream",
     "text": [
      "/Users/alexanderbell/anaconda3/lib/python3.6/site-packages/ipykernel_launcher.py:1: SettingWithCopyWarning: \n",
      "A value is trying to be set on a copy of a slice from a DataFrame\n",
      "\n",
      "See the caveats in the documentation: http://pandas.pydata.org/pandas-docs/stable/indexing.html#indexing-view-versus-copy\n",
      "  \"\"\"Entry point for launching an IPython kernel.\n"
     ]
    }
   ],
   "source": [
    "df['pitch'][df.breaking == 1] = 1"
   ]
  },
  {
   "cell_type": "code",
   "execution_count": 15,
   "metadata": {},
   "outputs": [],
   "source": [
    "pd.set_option('display.max_rows', 500)\n",
    "pd.set_option('display.max_columns', 500)\n",
    "pd.set_option('display.width', 1000)"
   ]
  },
  {
   "cell_type": "code",
   "execution_count": 17,
   "metadata": {},
   "outputs": [],
   "source": [
    "df.drop('Unnamed: 0',axis=1,inplace=True)"
   ]
  },
  {
   "cell_type": "code",
   "execution_count": 22,
   "metadata": {},
   "outputs": [],
   "source": [
    "X = df[['on_3b','on_2b','on_1b','inning','p_throws_L','stand_L','if_shift','if_strategic','of_fourth',\n",
    "        'of_strategic','count_0-1','count_0-2','count_1-0','count_1-1','count_1-2','count_2-0','count_2-1',\n",
    "        'count_2-2','count_3-0','count_3-1','count_3-2','run_diff','outs_when_up_1','outs_when_up_2']]"
   ]
  },
  {
   "cell_type": "code",
   "execution_count": 23,
   "metadata": {},
   "outputs": [],
   "source": [
    "y = df.pitch"
   ]
  },
  {
   "cell_type": "code",
   "execution_count": 24,
   "metadata": {},
   "outputs": [],
   "source": [
    "feat = np.array(X)"
   ]
  },
  {
   "cell_type": "code",
   "execution_count": 25,
   "metadata": {},
   "outputs": [],
   "source": [
    "obs = np.ravel(y)"
   ]
  },
  {
   "cell_type": "code",
   "execution_count": 26,
   "metadata": {},
   "outputs": [
    {
     "data": {
      "text/plain": [
       "array([[ 0,  0,  0, ..., -2,  0,  1],\n",
       "       [ 0,  0,  0, ..., -2,  0,  1],\n",
       "       [ 0,  0,  0, ..., -2,  0,  1],\n",
       "       ..., \n",
       "       [ 0,  0,  0, ...,  0,  1,  0],\n",
       "       [ 0,  0,  0, ...,  0,  0,  0],\n",
       "       [ 0,  0,  0, ...,  0,  0,  0]])"
      ]
     },
     "execution_count": 26,
     "metadata": {},
     "output_type": "execute_result"
    }
   ],
   "source": [
    "feat"
   ]
  },
  {
   "cell_type": "code",
   "execution_count": 27,
   "metadata": {},
   "outputs": [
    {
     "data": {
      "text/plain": [
       "array([2, 2, 2, ..., 2, 2, 2])"
      ]
     },
     "execution_count": 27,
     "metadata": {},
     "output_type": "execute_result"
    }
   ],
   "source": [
    "obs"
   ]
  },
  {
   "cell_type": "code",
   "execution_count": 28,
   "metadata": {},
   "outputs": [],
   "source": [
    "X_train, X_test, y_train, y_test = train_test_split(X, y, test_size=0.5,random_state=42)"
   ]
  },
  {
   "cell_type": "code",
   "execution_count": 29,
   "metadata": {},
   "outputs": [
    {
     "data": {
      "text/plain": [
       "PCA(copy=True, iterated_power='auto', n_components=2, random_state=None,\n",
       "  svd_solver='auto', tol=0.0, whiten=False)"
      ]
     },
     "execution_count": 29,
     "metadata": {},
     "output_type": "execute_result"
    }
   ],
   "source": [
    "pca = PCA(n_components=2)\n",
    "pca.fit(X_train)"
   ]
  },
  {
   "cell_type": "code",
   "execution_count": 30,
   "metadata": {},
   "outputs": [],
   "source": [
    "pcafeatures_train = pca.transform(X_train)"
   ]
  },
  {
   "cell_type": "code",
   "execution_count": 31,
   "metadata": {},
   "outputs": [],
   "source": [
    "from itertools import cycle\n",
    "\n",
    "def plot_PCA_2D(data, target, target_names):\n",
    "    colors = cycle(['r','g','b'])\n",
    "    target_ids = range(len(target_names))\n",
    "    plt.figure()\n",
    "    for i, c, label in zip(target_ids, colors, target_names):\n",
    "        plt.scatter(data[target == i, 0], data[target == i, 1],\n",
    "                   c=c, label=label)\n",
    "    plt.legend()"
   ]
  },
  {
   "cell_type": "code",
   "execution_count": 36,
   "metadata": {},
   "outputs": [
    {
     "data": {
      "text/plain": [
       "(23065, 57)"
      ]
     },
     "execution_count": 36,
     "metadata": {},
     "output_type": "execute_result"
    }
   ],
   "source": [
    "df.shape"
   ]
  },
  {
   "cell_type": "code",
   "execution_count": 38,
   "metadata": {},
   "outputs": [
    {
     "data": {
      "text/plain": [
       "SVC(C=1.0, cache_size=200, class_weight=None, coef0=0.0,\n",
       "  decision_function_shape='ovr', degree=3, gamma='auto', kernel='linear',\n",
       "  max_iter=-1, probability=False, random_state=None, shrinking=True,\n",
       "  tol=0.001, verbose=False)"
      ]
     },
     "execution_count": 38,
     "metadata": {},
     "output_type": "execute_result"
    }
   ],
   "source": [
    "# fit linear model\n",
    "model_svm = svm.SVC(kernel='linear')\n",
    "model_svm.fit(X_train, y_train)"
   ]
  },
  {
   "cell_type": "code",
   "execution_count": 39,
   "metadata": {},
   "outputs": [],
   "source": [
    "# predict out of sample\n",
    "y_pred = model_svm.predict(X_test)"
   ]
  },
  {
   "cell_type": "code",
   "execution_count": 40,
   "metadata": {},
   "outputs": [
    {
     "data": {
      "text/plain": [
       "0.63235931674325851"
      ]
     },
     "execution_count": 40,
     "metadata": {},
     "output_type": "execute_result"
    }
   ],
   "source": [
    "# check accuracy\n",
    "accuracy_score(y_test,y_pred)\n",
    "# pretty good accuracy!"
   ]
  },
  {
   "cell_type": "code",
   "execution_count": 41,
   "metadata": {},
   "outputs": [
    {
     "data": {
      "text/plain": [
       "array([[   0,    0, 1612],\n",
       "       [   0,    0, 2628],\n",
       "       [   0,    0, 7293]])"
      ]
     },
     "execution_count": 41,
     "metadata": {},
     "output_type": "execute_result"
    }
   ],
   "source": [
    "# confusion matrix\n",
    "confusion_matrix(y_test,y_pred)"
   ]
  },
  {
   "cell_type": "code",
   "execution_count": null,
   "metadata": {},
   "outputs": [],
   "source": []
  }
 ],
 "metadata": {
  "kernelspec": {
   "display_name": "Python 3",
   "language": "python",
   "name": "python3"
  },
  "language_info": {
   "codemirror_mode": {
    "name": "ipython",
    "version": 3
   },
   "file_extension": ".py",
   "mimetype": "text/x-python",
   "name": "python",
   "nbconvert_exporter": "python",
   "pygments_lexer": "ipython3",
   "version": "3.6.3"
  }
 },
 "nbformat": 4,
 "nbformat_minor": 2
}
